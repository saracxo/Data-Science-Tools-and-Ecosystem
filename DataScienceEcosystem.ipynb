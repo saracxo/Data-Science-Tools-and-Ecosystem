{
 "cells": [
  {
   "cell_type": "markdown",
   "id": "6cef1be7-f578-4138-996f-2725481d9327",
   "metadata": {},
   "source": [
    "# Data Science Tools and Ecosystem"
   ]
  },
  {
   "cell_type": "markdown",
   "id": "94aeaaf4-967b-4960-a13d-e7ea777ba36f",
   "metadata": {},
   "source": [
    "In this notebook, Data Science Tools and Ecosystem are summarized."
   ]
  },
  {
   "cell_type": "markdown",
   "id": "6972b70e-8120-4d08-bc5f-9237c7fce2be",
   "metadata": {},
   "source": [
    "**Objectives:**\n",
    "- List popular languages for Data Science\n",
    "- List some of the libraries used by Data Science\n",
    "- Use some arithmetic expression in Python"
   ]
  },
  {
   "cell_type": "markdown",
   "id": "9d8c3b03-45e7-4067-a899-c0aada8d66c9",
   "metadata": {},
   "source": [
    "Some of the popular languages that Data Scientists use are:\n",
    "1. Python\n",
    "2. JavaScript\n",
    "3. C++"
   ]
  },
  {
   "cell_type": "markdown",
   "id": "86e87f0b-d0f6-498f-8ad3-09bfe2b82216",
   "metadata": {},
   "source": [
    "Some of the commonly used libraries used by Data Scientists include:\n",
    "1. Pandas\n",
    "2. PyTorch\n",
    "3. Numpy"
   ]
  },
  {
   "cell_type": "markdown",
   "id": "944d33da-7b13-4e5c-9e59-3cd702cddaa1",
   "metadata": {},
   "source": [
    "|Data Science Tools|\n",
    "--------------------\n",
    "Hadoop\n",
    "Spark\n",
    "TensorFlow"
   ]
  },
  {
   "cell_type": "markdown",
   "id": "a088bd95-ceb9-4ca1-a4d0-def9504a5a53",
   "metadata": {},
   "source": [
    "### Below are a few examples of evaluating arithmetic expressions in Python.\r\n"
   ]
  },
  {
   "cell_type": "code",
   "execution_count": 14,
   "id": "ecc27de0-04ee-4aca-bbae-cf79842de10b",
   "metadata": {},
   "outputs": [
    {
     "data": {
      "text/plain": [
       "17"
      ]
     },
     "execution_count": 14,
     "metadata": {},
     "output_type": "execute_result"
    }
   ],
   "source": [
    "# this a simple arithmetic expression to mutiply then add integers\n",
    "(3*4)+5"
   ]
  },
  {
   "cell_type": "code",
   "execution_count": 16,
   "id": "ee6aa7bd-efcd-4547-a0e6-9919c9f8414d",
   "metadata": {},
   "outputs": [
    {
     "data": {
      "text/plain": [
       "3.3333333333333335"
      ]
     },
     "execution_count": 16,
     "metadata": {},
     "output_type": "execute_result"
    }
   ],
   "source": [
    "# This will convert 200 minutes to hours by diving by 60\n",
    "200/60"
   ]
  },
  {
   "cell_type": "markdown",
   "id": "ec1a087e-f9df-4fd5-8a09-c60723fc4c07",
   "metadata": {},
   "source": [
    "## Author \n",
    "Sara Castilla Ortiz"
   ]
  },
  {
   "cell_type": "code",
   "execution_count": null,
   "id": "2061ec00-90cf-4644-bebb-97deea6f5cb4",
   "metadata": {},
   "outputs": [],
   "source": []
  }
 ],
 "metadata": {
  "kernelspec": {
   "display_name": "Python 3 (ipykernel)",
   "language": "python",
   "name": "python3"
  },
  "language_info": {
   "codemirror_mode": {
    "name": "ipython",
    "version": 3
   },
   "file_extension": ".py",
   "mimetype": "text/x-python",
   "name": "python",
   "nbconvert_exporter": "python",
   "pygments_lexer": "ipython3",
   "version": "3.12.4"
  }
 },
 "nbformat": 4,
 "nbformat_minor": 5
}
